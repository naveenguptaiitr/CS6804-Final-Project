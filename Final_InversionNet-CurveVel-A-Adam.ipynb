{
 "cells": [
  {
   "cell_type": "markdown",
   "id": "ac74dc33",
   "metadata": {},
   "source": [
    "## InversionNet - CurveVel-A (Adam Optimizer)"
   ]
  },
  {
   "cell_type": "code",
   "execution_count": 1,
   "id": "7f2301d4",
   "metadata": {},
   "outputs": [
    {
     "name": "stdout",
     "output_type": "stream",
     "text": [
      "Total number of GPU available - 8\n"
     ]
    }
   ],
   "source": [
    "from __future__ import print_function\n",
    "import matplotlib.pyplot as plt\n",
    "\n",
    "import os\n",
    "import sys\n",
    "\n",
    "import warnings\n",
    "warnings.filterwarnings('ignore')\n",
    "\n",
    "\n",
    "import tqdm\n",
    "from model import *\n",
    "\n",
    "import numpy as np\n",
    "import torch\n",
    "import torch.optim\n",
    "from torch.autograd import Variable\n",
    "from torch.optim.lr_scheduler import ExponentialLR\n",
    "\n",
    "from torch.utils.data import Dataset\n",
    "from torch.utils.data import DataLoader\n",
    "\n",
    "import scipy.ndimage\n",
    "\n",
    "from tqdm.notebook import tqdm\n",
    "from tqdm import tqdm\n",
    "\n",
    "from torchmetrics.functional import mean_absolute_error, mean_absolute_percentage_error, mean_squared_log_error\n",
    "\n",
    "\n",
    "GPU = True\n",
    "if GPU == True:\n",
    "    torch.backends.cudnn.enabled = True\n",
    "    torch.backends.cudnn.benchmark = True\n",
    "    dtype = torch.cuda.FloatTensor\n",
    "    device = torch.device(\"cuda:0\")  \n",
    "    torch.cuda.empty_cache()\n",
    "    print(\"Total number of GPU available -\",torch.cuda.device_count())\n",
    "else:\n",
    "    dtype = torch.FloatTensor"
   ]
  },
  {
   "cell_type": "markdown",
   "id": "1213e0c1",
   "metadata": {},
   "source": [
    "## Loading Amplitude and Velocity Data for Curve Layers"
   ]
  },
  {
   "cell_type": "code",
   "execution_count": 2,
   "id": "5c7a84e4",
   "metadata": {},
   "outputs": [],
   "source": [
    "#loading amplitude data\n",
    "data1 = np.load('CurveVel-A/amplitude/data1.npy')\n",
    "data2 = np.load('CurveVel-A/amplitude/data2.npy')\n",
    "data3 = np.load('CurveVel-A/amplitude/data3.npy')\n",
    "data4 = np.load('CurveVel-A/amplitude/data4.npy')\n",
    "\n",
    "#loading velocity data\n",
    "model1 = np.load('CurveVel-A/velocity/model1.npy')\n",
    "model2 = np.load('CurveVel-A/velocity/model2.npy')\n",
    "model3 = np.load('CurveVel-A/velocity/model3.npy')\n",
    "model4 = np.load('CurveVel-A/velocity/model4.npy')\n",
    "\n",
    "\n",
    "# converting to torch tensor\n",
    "data1 = torch.tensor(data1).type(dtype).to(device)\n",
    "data2 = torch.tensor(data2).type(dtype).to(device)\n",
    "data3 = torch.tensor(data3).type(dtype).to(device)\n",
    "data4 = torch.tensor(data4).type(dtype).to(device)\n",
    "\n",
    "model1 = torch.tensor(model1).type(dtype).to(device)\n",
    "model2 = torch.tensor(model2).type(dtype).to(device)\n",
    "model3 = torch.tensor(model3).type(dtype).to(device)\n",
    "model4 = torch.tensor(model4).type(dtype).to(device)"
   ]
  },
  {
   "cell_type": "markdown",
   "id": "f436f895",
   "metadata": {},
   "source": [
    "## Custom Data Loader class to load data using PyTorch Dataloader"
   ]
  },
  {
   "cell_type": "code",
   "execution_count": 3,
   "id": "d63abce2",
   "metadata": {},
   "outputs": [],
   "source": [
    "class DatasetLoader(Dataset):\n",
    "    \n",
    "    def __init__(self, amps, vel):\n",
    "        self.amps = amps\n",
    "        self.vel = vel\n",
    "    \n",
    "    \n",
    "    def __getitem__(self, idx):\n",
    "        \n",
    "        return (self.amps[idx], self.vel[idx])\n",
    "    \n",
    "    def __len__(self):\n",
    "        \n",
    "        return len(self.amps)\n"
   ]
  },
  {
   "cell_type": "code",
   "execution_count": 4,
   "id": "1a6d4521",
   "metadata": {},
   "outputs": [],
   "source": [
    "total_data = torch.cat((data1, data2, data3, data4), 0)\n",
    "total_model = torch.cat((model1, model2, model3, model4), 0)\n",
    "\n",
    "data = DatasetLoader(total_data, total_model)"
   ]
  },
  {
   "cell_type": "code",
   "execution_count": 5,
   "id": "ce513c42",
   "metadata": {},
   "outputs": [],
   "source": [
    "train_size = int(len(data)*0.8)\n",
    "test_size = len(data) - train_size\n",
    "\n",
    "train_data, test_data = torch.utils.data.random_split(data, [train_size, test_size])\n",
    "\n",
    "trainloader = DataLoader(train_data, batch_size=50, shuffle=True)\n",
    "testloader = DataLoader(test_data, batch_size=50, shuffle=False)"
   ]
  },
  {
   "cell_type": "markdown",
   "id": "1e53bbc9",
   "metadata": {},
   "source": [
    "## Defining InversionNet model"
   ]
  },
  {
   "cell_type": "code",
   "execution_count": 6,
   "id": "59c8b950",
   "metadata": {},
   "outputs": [],
   "source": [
    "input_channels = 5\n",
    "encoder_channels = [32, 64, 64, 64, 64, 128, 128, 128, 128,\n",
    "                   256, 256, 256, 256, 512]\n",
    "\n",
    "decoder_channels = [512, 256, 128, 64, 32]\n",
    "\n",
    "net = InversionNetB(input_channels, encoder_channels, decoder_channels).type(dtype).to(device)\n",
    "\n",
    "# net = nn.DataParallel(InversionNetB(input_channels, encoder_channels, decoder_channels)).type(dtype).to(device)\n",
    "\n",
    "#net = InversionNet().type(dtype).to(device)"
   ]
  },
  {
   "cell_type": "code",
   "execution_count": 7,
   "id": "9f4df754",
   "metadata": {},
   "outputs": [],
   "source": [
    "# Optimization Params\n",
    "params = [p for p in net.parameters()]\n",
    "\n",
    "l2_loss = torch.nn.MSELoss()\n",
    "optimizer = torch.optim.Adam([{'params':params, 'lr':1e-6}])"
   ]
  },
  {
   "cell_type": "code",
   "execution_count": null,
   "id": "16465966",
   "metadata": {
    "scrolled": true,
    "tags": []
   },
   "outputs": [
    {
     "name": "stderr",
     "output_type": "stream",
     "text": [
      "  0%|                                                  | 0/2000 [00:00<?, ?it/s]"
     ]
    },
    {
     "name": "stdout",
     "output_type": "stream",
     "text": [
      "Model Loss at 0 epoch - 8498405.75\n"
     ]
    },
    {
     "data": {
      "image/png": "[encoded data removed]",
      "text/plain": [
       "<Figure size 432x288 with 2 Axes>"
      ]
     },
     "metadata": {
      "needs_background": "light"
     },
     "output_type": "display_data"
    },
    {
     "name": "stderr",
     "output_type": "stream",
     "text": [
      " 10%|███▊                                  | 200/2000 [18:53<2:49:19,  5.64s/it]"
     ]
    },
    {
     "name": "stdout",
     "output_type": "stream",
     "text": [
      "Model Loss at 200 epoch - 8497194.015625\n"
     ]
    },
    {
     "data": {
      "image/png": "[encoded data removed]",
      "text/plain": [
       "<Figure size 432x288 with 2 Axes>"
      ]
     },
     "metadata": {
      "needs_background": "light"
     },
     "output_type": "display_data"
    },
    {
     "name": "stderr",
     "output_type": "stream",
     "text": [
      " 20%|███████▌                              | 400/2000 [39:07<3:12:48,  7.23s/it]"
     ]
    },
    {
     "name": "stdout",
     "output_type": "stream",
     "text": [
      "Model Loss at 400 epoch - 8497131.734375\n"
     ]
    },
    {
     "data": {
      "image/png": "[encoded data removed]",
      "text/plain": [
       "<Figure size 432x288 with 2 Axes>"
      ]
     },
     "metadata": {
      "needs_background": "light"
     },
     "output_type": "display_data"
    },
    {
     "name": "stderr",
     "output_type": "stream",
     "text": [
      " 20%|███████▋                              | 405/2000 [39:49<3:37:17,  8.17s/it]"
     ]
    }
   ],
   "source": [
    "# Model Training\n",
    "train_loss_per_epoch = []\n",
    "\n",
    "num_epoch = 2000\n",
    "\n",
    "for epoch in tqdm(range(num_epoch)):\n",
    "    train_epoch_loss = 0\n",
    "    for batch_id, (amp, vel) in enumerate(trainloader):\n",
    "        optimizer.zero_grad()\n",
    "        \n",
    "        pred_vel = net(amp)\n",
    "        \n",
    "        # Loss calculation\n",
    "        loss2 = l2_loss(vel, pred_vel)\n",
    "\n",
    "        train_epoch_loss += loss2.item()\n",
    "        \n",
    "        \n",
    "        loss2.backward()\n",
    "        optimizer.step()\n",
    "\n",
    "    train_epoch_loss = train_epoch_loss/(len(trainloader)) \n",
    "        \n",
    "    if(epoch%200 == 0):\n",
    "        print('Model Loss at {epoch} epoch - {epoch_loss}'.format(epoch=epoch, epoch_loss=train_epoch_loss))\n",
    "        \n",
    "        with torch.no_grad():\n",
    "            pred_vel_np = pred_vel[0,0,:].detach().cpu().numpy()\n",
    "            plt.imshow(pred_vel_np)\n",
    "            plt.colorbar(label='velocity')\n",
    "            plt.show()\n",
    "        \n",
    "    train_loss_per_epoch.append(train_epoch_loss)"
   ]
  },
  {
   "cell_type": "code",
   "execution_count": null,
   "id": "6e6bc8e8",
   "metadata": {},
   "outputs": [],
   "source": [
    "torch.save(net.state_dict(), 'Checkpoints/CurveVel-A/CurveVel-A_l_MSE_e_2000_weights.pth')"
   ]
  },
  {
   "cell_type": "code",
   "execution_count": null,
   "id": "8cb63b1b",
   "metadata": {
    "tags": []
   },
   "outputs": [],
   "source": [
    "plt.plot(train_loss_per_epoch)\n",
    "plt.xlabel('Epochs')\n",
    "plt.ylabel('Loss')\n",
    "plt.savefig(\"Checkpoints/CurveVel-A/l_MSE_e_2000_loss\")"
   ]
  },
  {
   "cell_type": "code",
   "execution_count": null,
   "id": "af9f9859",
   "metadata": {},
   "outputs": [],
   "source": [
    "# loading samples from the training dataset\n",
    "amp, vel = train_data[30:60]\n",
    "\n",
    "pred_vel = net(amp)\n",
    "\n",
    "vel = vel[15,0,:]\n",
    "first_vel = pred_vel[15,0,:]\n",
    "\n",
    "vel_np = first_vel.detach().cpu().numpy()\n",
    "\n",
    "plt.imshow(vel_np)\n",
    "plt.colorbar(label='velocity')\n",
    "\n",
    "plt.savefig(\"Checkpoints/CurveVel-A/e_2000_train30_60_prediction\")\n",
    "plt.show()"
   ]
  },
  {
   "cell_type": "code",
   "execution_count": null,
   "id": "5458e97a",
   "metadata": {},
   "outputs": [],
   "source": [
    "vel = vel.detach().cpu().numpy()\n",
    "plt.imshow(vel)\n",
    "plt.colorbar(label='velocity')\n",
    "plt.savefig(\"Checkpoints/CurveVel-A/e_2000_train30_60_true\")\n",
    "plt.show()"
   ]
  },
  {
   "cell_type": "code",
   "execution_count": null,
   "id": "6fbd99d4",
   "metadata": {},
   "outputs": [],
   "source": [
    "# loading samples from the test dataset\n",
    "amp, vel = test_data[30:60]\n",
    "\n",
    "pred_vel = net(amp)\n",
    "\n",
    "vel = vel[10,0,:]\n",
    "first_vel = pred_vel[10,0,:]\n",
    "\n",
    "vel_np = first_vel.detach().cpu().numpy()\n",
    "\n",
    "plt.imshow(vel_np)\n",
    "plt.colorbar(label='velocity')\n",
    "\n",
    "plt.savefig(\"Checkpoints/CurveVel-A/e_2000_test30_60_prediction\")\n",
    "plt.show()"
   ]
  },
  {
   "cell_type": "code",
   "execution_count": null,
   "id": "ebbb7952",
   "metadata": {},
   "outputs": [],
   "source": [
    "vel = vel.detach().cpu().numpy()\n",
    "plt.imshow(vel)\n",
    "plt.colorbar(label='velocity')\n",
    "plt.savefig(\"Checkpoints/CurveVel-A/e_2000_test30_60_true\")\n",
    "plt.show()"
   ]
  },
  {
   "cell_type": "code",
   "execution_count": null,
   "id": "6324354e",
   "metadata": {
    "tags": []
   },
   "outputs": [],
   "source": [
    "# Loading Model for Inference (Adam)\n",
    "model=InversionNetB(input_channels, encoder_channels, decoder_channels)\n",
    "model.load_state_dict(torch.load('Checkpoints/CurveVel-A/CurveVel-A_l_MSE_e_2000_adam.pth'))\n",
    "model.eval()"
   ]
  },
  {
   "cell_type": "code",
   "execution_count": null,
   "id": "9a40eb43-922a-4cbf-b492-f64586828224",
   "metadata": {},
   "outputs": [],
   "source": [
    "# Evaluation metrics - MAE and MRE\n",
    "# with e=2000\n",
    "amp, vel = test_data[0:]\n",
    "pred_vel = model(amp.to('cpu'))\n",
    "\n",
    "mae = mean_absolute_error(torch.tensor(pred_vel).to(device), torch.tensor(vel).to(device)).detach().cpu().numpy()\n",
    "mre = mean_absolute_percentage_error(torch.tensor(pred_vel).to(device), torch.tensor(vel).to(device)).detach().cpu().numpy()\n",
    "print(\"Mean Absolute Error (MAE): \", mae)\n",
    "print(\"Mean Relative Error (MRE): \", mre)\n",
    "print(\"\")\n",
    "vel = vel[15,0,:]\n",
    "pred_vel = pred_vel[15,0,:]\n",
    "\n",
    "print(\"Prediction\")\n",
    "pred_vel = pred_vel.detach().cpu().numpy()\n",
    "plt.imshow(pred_vel)\n",
    "plt.colorbar(label='velocity')\n",
    "plt.show()\n",
    "\n",
    "print(\"Ground Truth\")\n",
    "true_vel = vel.detach().cpu().numpy()\n",
    "plt.imshow(true_vel)\n",
    "plt.colorbar(label='velocity')\n",
    "plt.show()"
   ]
  },
  {
   "cell_type": "code",
   "execution_count": null,
   "id": "6432b6fa",
   "metadata": {},
   "outputs": [],
   "source": [
    "print(\"MAE: \",mean_absolute_error(pred_vel.to(device), vel.to(device)))\n",
    "print(\"MRE: \", mean_absolute_percentage_error(torch.tensor(pred_vel).to(device), torch.tensor(vel).to(device)))"
   ]
  },
  {
   "cell_type": "code",
   "execution_count": null,
   "id": "75e05056",
   "metadata": {},
   "outputs": [],
   "source": [
    "print(prev_mae)"
   ]
  },
  {
   "cell_type": "code",
   "execution_count": null,
   "id": "0cd5e5a6",
   "metadata": {},
   "outputs": [],
   "source": [
    "mae=mean_absolute_error(torch.tensor(pred_vel).type(dtype).to(device), torch.tensor(vel).type(dtype).to(device))\n",
    "print(mae.detach().cpu().numpy())"
   ]
  }
 ],
 "metadata": {
  "kernelspec": {
   "display_name": "Python 3",
   "language": "python",
   "name": "python3"
  },
  "language_info": {
   "codemirror_mode": {
    "name": "ipython",
    "version": 3
   },
   "file_extension": ".py",
   "mimetype": "text/x-python",
   "name": "python",
   "nbconvert_exporter": "python",
   "pygments_lexer": "ipython3",
   "version": "3.9.7"
  }
 },
 "nbformat": 4,
 "nbformat_minor": 5
}
