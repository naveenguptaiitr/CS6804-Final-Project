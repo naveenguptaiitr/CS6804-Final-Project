{
 "cells": [
  {
   "cell_type": "markdown",
   "id": "5ef4ca70",
   "metadata": {},
   "source": [
    "## InversionNet - CurveVel-A (SGD Optimizer)"
   ]
  },
  {
   "cell_type": "code",
   "execution_count": 1,
   "id": "2975f596",
   "metadata": {},
   "outputs": [
    {
     "name": "stdout",
     "output_type": "stream",
     "text": [
      "Total number of GPU available - 8\n"
     ]
    }
   ],
   "source": [
    "from __future__ import print_function\n",
    "import matplotlib.pyplot as plt\n",
    "\n",
    "import os\n",
    "import sys\n",
    "\n",
    "import warnings\n",
    "warnings.filterwarnings('ignore')\n",
    "\n",
    "import tqdm\n",
    "from model import *\n",
    "\n",
    "import numpy as np\n",
    "import torch\n",
    "import torch.optim\n",
    "from torch.autograd import Variable\n",
    "from torch.optim.lr_scheduler import ExponentialLR\n",
    "\n",
    "from torch.utils.data import Dataset\n",
    "from torch.utils.data import DataLoader\n",
    "\n",
    "import scipy.ndimage\n",
    "\n",
    "from tqdm.notebook import tqdm\n",
    "from tqdm import tqdm\n",
    "\n",
    "from torchmetrics.functional import mean_absolute_error, mean_absolute_percentage_error, mean_squared_log_error\n",
    "\n",
    "GPU = True\n",
    "if GPU == True:\n",
    "    torch.backends.cudnn.enabled = True\n",
    "    torch.backends.cudnn.benchmark = True\n",
    "    dtype = torch.cuda.FloatTensor\n",
    "    device = torch.device(\"cuda:2\")  \n",
    "    torch.cuda.empty_cache()\n",
    "    print(\"Total number of GPU available -\",torch.cuda.device_count())\n",
    "else:\n",
    "    dtype = torch.FloatTensor"
   ]
  },
  {
   "cell_type": "markdown",
   "id": "eab2f074",
   "metadata": {},
   "source": [
    "## Loading Amplitude and Velocity Data for Curve Layers"
   ]
  },
  {
   "cell_type": "code",
   "execution_count": 2,
   "id": "eb20f397",
   "metadata": {},
   "outputs": [],
   "source": [
    "#loading amplitude data\n",
    "data1 = np.load('CurveVel-A/amplitude/data1.npy')\n",
    "data2 = np.load('CurveVel-A/amplitude/data2.npy')\n",
    "data3 = np.load('CurveVel-A/amplitude/data3.npy')\n",
    "data4 = np.load('CurveVel-A/amplitude/data4.npy')\n",
    "\n",
    "#loading velocity data\n",
    "model1 = np.load('CurveVel-A/velocity/model1.npy')\n",
    "model2 = np.load('CurveVel-A/velocity/model2.npy')\n",
    "model3 = np.load('CurveVel-A/velocity/model3.npy')\n",
    "model4 = np.load('CurveVel-A/velocity/model4.npy')\n",
    "\n",
    "\n",
    "\n",
    "# converting to torch tensor\n",
    "data1 = torch.tensor(data1).type(dtype).to(device)\n",
    "data2 = torch.tensor(data2).type(dtype).to(device)\n",
    "data3 = torch.tensor(data3).type(dtype).to(device)\n",
    "data4 = torch.tensor(data4).type(dtype).to(device)\n",
    "\n",
    "model1 = torch.tensor(model1).type(dtype).to(device)\n",
    "model2 = torch.tensor(model2).type(dtype).to(device)\n",
    "model3 = torch.tensor(model3).type(dtype).to(device)\n",
    "model4 = torch.tensor(model4).type(dtype).to(device)"
   ]
  },
  {
   "cell_type": "markdown",
   "id": "43182555",
   "metadata": {},
   "source": [
    "## Custom Data Loader class to load data using PyTorch Dataloader"
   ]
  },
  {
   "cell_type": "code",
   "execution_count": 3,
   "id": "81bafecd",
   "metadata": {},
   "outputs": [],
   "source": [
    "class DatasetLoader(Dataset):\n",
    "    \n",
    "    def __init__(self, amps, vel):\n",
    "        self.amps = amps\n",
    "        self.vel = vel\n",
    "    \n",
    "    \n",
    "    def __getitem__(self, idx):\n",
    "        \n",
    "        return (self.amps[idx], self.vel[idx])\n",
    "    \n",
    "    def __len__(self):\n",
    "        \n",
    "        return len(self.amps)\n"
   ]
  },
  {
   "cell_type": "code",
   "execution_count": 4,
   "id": "47e14242",
   "metadata": {},
   "outputs": [],
   "source": [
    "total_data = torch.cat((data1, data2, data3, data4), 0)\n",
    "total_model = torch.cat((model1, model2, model3, model4), 0)\n",
    "\n",
    "data = DatasetLoader(total_data, total_model)"
   ]
  },
  {
   "cell_type": "code",
   "execution_count": 5,
   "id": "95492cf2",
   "metadata": {},
   "outputs": [],
   "source": [
    "train_size = int(len(data)*0.8)\n",
    "test_size = len(data) - train_size\n",
    "\n",
    "train_data, test_data = torch.utils.data.random_split(data, [train_size, test_size])\n",
    "\n",
    "trainloader = DataLoader(train_data, batch_size=50, shuffle=True)\n",
    "testloader = DataLoader(test_data, batch_size=50, shuffle=True)"
   ]
  },
  {
   "cell_type": "markdown",
   "id": "8f6962a1",
   "metadata": {},
   "source": [
    "## Defining InversionNet model"
   ]
  },
  {
   "cell_type": "code",
   "execution_count": 6,
   "id": "ca24a17b",
   "metadata": {},
   "outputs": [],
   "source": [
    "input_channels = 5\n",
    "encoder_channels = [32, 64, 64, 64, 64, 128, 128, 128, 128,\n",
    "                   256, 256, 256, 256, 512]\n",
    "\n",
    "decoder_channels = [512, 256, 128, 64, 32]\n",
    "\n",
    "net = InversionNetB(input_channels, encoder_channels, decoder_channels).type(dtype).to(device)\n",
    "\n",
    "# net = nn.DataParallel(InversionNetB(input_channels, encoder_channels, decoder_channels)).type(dtype).to(device)\n",
    "\n",
    "#net = InversionNet().type(dtype).to(device)"
   ]
  },
  {
   "cell_type": "code",
   "execution_count": 7,
   "id": "54dff587",
   "metadata": {},
   "outputs": [],
   "source": [
    "## Optimization Params\n",
    "params = [p for p in net.parameters()]\n",
    "\n",
    "l2_loss = torch.nn.MSELoss()\n",
    "\n",
    "optimizer = torch.optim.SGD(params, lr=1e-4)"
   ]
  },
  {
   "cell_type": "code",
   "execution_count": null,
   "id": "172bd4ef",
   "metadata": {
    "scrolled": true,
    "tags": []
   },
   "outputs": [
    {
     "name": "stderr",
     "output_type": "stream",
     "text": [
      "  0%|                                                  | 0/2000 [00:00<?, ?it/s]"
     ]
    },
    {
     "name": "stdout",
     "output_type": "stream",
     "text": [
      "Model Loss at 0 epoch - 8409107.421875\n"
     ]
    },
    {
     "data": {
      "image/png": "[encoded data removed]",
      "text/plain": [
       "<Figure size 432x288 with 2 Axes>"
      ]
     },
     "metadata": {
      "needs_background": "light"
     },
     "output_type": "display_data"
    },
    {
     "name": "stderr",
     "output_type": "stream",
     "text": [
      " 10%|███▊                                  | 200/2000 [13:24<1:59:39,  3.99s/it]"
     ]
    },
    {
     "name": "stdout",
     "output_type": "stream",
     "text": [
      "Model Loss at 200 epoch - 670014.2998046875\n"
     ]
    },
    {
     "data": {
      "image/png": "[encoded data removed]",
      "text/plain": [
       "<Figure size 432x288 with 2 Axes>"
      ]
     },
     "metadata": {
      "needs_background": "light"
     },
     "output_type": "display_data"
    },
    {
     "name": "stderr",
     "output_type": "stream",
     "text": [
      " 20%|███████▌                              | 400/2000 [27:23<1:49:18,  4.10s/it]"
     ]
    },
    {
     "name": "stdout",
     "output_type": "stream",
     "text": [
      "Model Loss at 400 epoch - 60679.70129394531\n"
     ]
    },
    {
     "data": {
      "image/png": "[encoded data removed]",
      "text/plain": [
       "<Figure size 432x288 with 2 Axes>"
      ]
     },
     "metadata": {
      "needs_background": "light"
     },
     "output_type": "display_data"
    },
    {
     "name": "stderr",
     "output_type": "stream",
     "text": [
      " 22%|████████▏                             | 433/2000 [29:45<2:10:06,  4.98s/it]"
     ]
    }
   ],
   "source": [
    "# Model training\n",
    "train_loss_per_epoch = []\n",
    "\n",
    "num_epoch = 2000\n",
    "\n",
    "for epoch in tqdm(range(num_epoch)):\n",
    "    train_epoch_loss = 0\n",
    "    for batch_id, (amp, vel) in enumerate(trainloader):\n",
    "        optimizer.zero_grad()\n",
    "        \n",
    "        pred_vel = net(amp)\n",
    "        \n",
    "        # Loss calculation\n",
    "        loss2 = l2_loss(vel, pred_vel)\n",
    "\n",
    "        train_epoch_loss += loss2.item()\n",
    "        \n",
    "        \n",
    "        loss2.backward()\n",
    "        optimizer.step()\n",
    "    \n",
    "    train_epoch_loss = train_epoch_loss/(len(trainloader)) \n",
    "        \n",
    "    if(epoch%200 == 0):\n",
    "        print('Model Loss at {epoch} epoch - {epoch_loss}'.format(epoch=epoch, epoch_loss=train_epoch_loss))\n",
    "        \n",
    "        with torch.no_grad():\n",
    "            pred_vel_np = pred_vel[0,0,:].detach().cpu().numpy()\n",
    "            plt.imshow(pred_vel_np)\n",
    "            plt.colorbar(label='velocity')\n",
    "            plt.show()\n",
    "        \n",
    "    train_loss_per_epoch.append(train_epoch_loss)"
   ]
  },
  {
   "cell_type": "code",
   "execution_count": null,
   "id": "83e46c70",
   "metadata": {},
   "outputs": [],
   "source": [
    "# saving model without optimizer's state_dict\n",
    "torch.save(net.state_dict(), 'Checkpoints/CurveVel-A/InversionNet_e_2000.pth')"
   ]
  },
  {
   "cell_type": "code",
   "execution_count": null,
   "id": "2975a2b6-9a2f-4097-80e0-e21ace36c03a",
   "metadata": {},
   "outputs": [],
   "source": [
    "#save model with optimizer's state_dict\n",
    "torch.save({'epoch': num_epoch,\n",
    "            'model_state_dict': net.state_dict(),\n",
    "            'optimizer_state_dict': optimizer.state_dict(),\n",
    "            'loss': train_loss_per_epoch\n",
    "           }, 'Checkpoints/CurveVel-A/InversionNet_optimizer_epoch_loss.pth')"
   ]
  },
  {
   "cell_type": "code",
   "execution_count": null,
   "id": "62ea831a-188e-4ee5-b914-4ceb0e45124d",
   "metadata": {},
   "outputs": [],
   "source": [
    "torch.save({'model_state_dict': net.state_dict(),\n",
    "            'optimizer_state_dict': optimizer.state_dict(),\n",
    "           }, 'Checkpoints/CurveVel-A/InversionNet_optimizer.pth')"
   ]
  },
  {
   "cell_type": "code",
   "execution_count": null,
   "id": "6301936f",
   "metadata": {
    "tags": []
   },
   "outputs": [],
   "source": [
    "# loss plot\n",
    "plt.plot(train_loss_per_epoch)\n",
    "plt.xlabel('epochs')\n",
    "plt.ylabel('loss')\n",
    "plt.savefig(\"Checkpoints/CurveVel-A/InversionNet_e_2000\")"
   ]
  },
  {
   "cell_type": "code",
   "execution_count": null,
   "id": "ead7dbb7",
   "metadata": {},
   "outputs": [],
   "source": [
    "# comparing predicted velocity vs true velocity on train set\n",
    "# predicted velocity\n",
    "amp, vel = train_data[0:50]\n",
    "\n",
    "pred_vel = net(amp)\n",
    "\n",
    "vel = vel[15,0,:]\n",
    "first_vel = pred_vel[15,0,:]\n",
    "\n",
    "vel_np = first_vel.detach().cpu().numpy()\n",
    "\n",
    "plt.imshow(vel_np)\n",
    "plt.colorbar(label='velocity')\n",
    "\n",
    "# plt.savefig(\"Checkpoints/CurveVel-A/e_2000_train20_50_prediction\")\n",
    "plt.show()"
   ]
  },
  {
   "cell_type": "code",
   "execution_count": null,
   "id": "be98211b",
   "metadata": {},
   "outputs": [],
   "source": [
    "# true velocity\n",
    "vel = vel.detach().cpu().numpy()\n",
    "plt.imshow(vel)\n",
    "plt.colorbar(label='velocity')\n",
    "# plt.savefig(\"Checkpoints/CurveVel-A/e_2000_train20_50_true\")\n",
    "plt.show()"
   ]
  },
  {
   "cell_type": "code",
   "execution_count": null,
   "id": "f847d117",
   "metadata": {},
   "outputs": [],
   "source": [
    "# comparing predicted velocity vs true velocity on test set\n",
    "# predicted velocity\n",
    "amp, vel = test_data[30:50]\n",
    "\n",
    "pred_vel = net(amp)\n",
    "\n",
    "vel = vel[10,0,:]\n",
    "first_vel = pred_vel[10,0,:]\n",
    "\n",
    "vel_np = first_vel.detach().cpu().numpy()\n",
    "\n",
    "plt.imshow(vel_np)\n",
    "plt.colorbar(label='velocity')\n",
    "\n",
    "# plt.savefig(\"Checkpoints/CurveVel-A/e_2000_test30_50_prediction\")\n",
    "plt.show()"
   ]
  },
  {
   "cell_type": "code",
   "execution_count": null,
   "id": "e8f872d5",
   "metadata": {},
   "outputs": [],
   "source": [
    "# true velocity\n",
    "vel = vel.detach().cpu().numpy()\n",
    "plt.imshow(vel)\n",
    "plt.colorbar(label='velocity')\n",
    "# plt.savefig(\"Checkpoints/CurveVel-A/e_2000_test30_50_true\")\n",
    "plt.show()"
   ]
  },
  {
   "cell_type": "markdown",
   "id": "e160be7e-974f-46ea-8d65-fcbac4f4aff4",
   "metadata": {},
   "source": [
    "## Loading Model for inference"
   ]
  },
  {
   "cell_type": "code",
   "execution_count": null,
   "id": "02084292",
   "metadata": {
    "tags": []
   },
   "outputs": [],
   "source": [
    "# Loading Model for Inference\n",
    "model=InversionNetB(input_channels, encoder_channels, decoder_channels)\n",
    "model.load_state_dict(torch.load('Checkpoints/CurveVel-A/Duplicate_InversionNet_e_2000.pth'))\n",
    "model.eval()"
   ]
  },
  {
   "cell_type": "code",
   "execution_count": null,
   "id": "8e868076-334b-49ec-b48b-4cccbdbcfe30",
   "metadata": {},
   "outputs": [],
   "source": [
    "# Evaluation metrics - MAE and MRE\n",
    "# with e=2000\n",
    "amp, vel = test_data[0:]\n",
    "pred_vel = model(amp.to('cpu'))\n",
    "\n",
    "mae = mean_absolute_error(torch.tensor(pred_vel).to(device), torch.tensor(vel).to(device)).detach().cpu().numpy()\n",
    "mre = mean_absolute_percentage_error(torch.tensor(pred_vel).to(device), torch.tensor(vel).to(device)).detach().cpu().numpy()\n",
    "print(\"Mean Absolute Error (MAE): \", mae)\n",
    "print(\"Mean Relative Error (MRE): \", mre)\n",
    "print(\"\")\n",
    "vel = vel[15,0,:]\n",
    "pred_vel = pred_vel[15,0,:]\n",
    "\n",
    "print(\"Prediction\")\n",
    "pred_vel = pred_vel.detach().cpu().numpy()\n",
    "plt.imshow(pred_vel)\n",
    "plt.colorbar(label='velocity')\n",
    "plt.show()\n",
    "\n",
    "print(\"Ground Truth\")\n",
    "true_vel = vel.detach().cpu().numpy()\n",
    "plt.imshow(true_vel)\n",
    "plt.colorbar(label='velocity')\n",
    "plt.show()"
   ]
  },
  {
   "cell_type": "markdown",
   "id": "37702b82-8991-4cc1-8c00-84699e97fa62",
   "metadata": {},
   "source": [
    "## InversionNet inference on Marmousi data"
   ]
  },
  {
   "cell_type": "code",
   "execution_count": null,
   "id": "5766fdb7-7b59-4eb2-a113-de964fd99278",
   "metadata": {},
   "outputs": [],
   "source": [
    "from pysit import *\n",
    "from pysit.gallery import marmousi\n",
    "from pysit.gallery import marmousi2\n",
    "\n",
    "import deepwave\n"
   ]
  },
  {
   "cell_type": "code",
   "execution_count": null,
   "id": "e3872c98-3375-43bb-87df-55aa82444e4e",
   "metadata": {},
   "outputs": [],
   "source": [
    "# loading marmousi velocity data from the pysit library\n",
    "# since we do not have the amplitude data for marmousi therefore \n",
    "# we load the velocity data first and then solve wave equation using \n",
    "# deep wave library to get the amlitude data\n",
    "vp_true, vp_init, m, d = marmousi2(origin=(7500, 355), \n",
    "                        size=(1910, 950), \n",
    "                        pixel_scale=\"small\",\n",
    "                        initial_model_style=\"gradient\",\n",
    "                        initial_config={'min':1500.0,'max':3000.0})\n",
    "\n",
    "\n",
    "plot_shape = m.shape(as_grid=True)\n",
    "vp_true_np = vp_true.reshape(plot_shape).T\n",
    "vp_init_np = vp_init.reshape(plot_shape).T\n",
    "\n",
    "\n",
    "vp_true_var = torch.tensor(vp_true_np)\n",
    "model_true = vp_true_var.clone()\n"
   ]
  },
  {
   "cell_type": "code",
   "execution_count": null,
   "id": "a2c46d5a-5390-4ce3-a400-de842c9474bc",
   "metadata": {},
   "outputs": [],
   "source": [
    "# Model setup for DeepWave\n",
    "dx = m.deltas[0]\n",
    "nz, ny = vp_true_np.shape\n",
    "num_dims = 2\n",
    "\n",
    "# acquisition setup\n",
    "num_shots = 20\n",
    "\n",
    "num_sources_per_shot = 1\n",
    "source_spacing = ny*dx / num_shots #10.0\n",
    "\n",
    "num_receivers_per_shot = 96\n",
    "receiver_spacing = ny*dx / num_receivers_per_shot #10.0\n",
    "\n",
    "peak_freq = 10\n",
    "dt = 0.004 # 4ms\n",
    "\n",
    "n_seconds = 4\n",
    "nt = int(n_seconds / dt)"
   ]
  },
  {
   "cell_type": "code",
   "execution_count": null,
   "id": "8c68b544-1a25-4c6d-881e-d98052845e42",
   "metadata": {},
   "outputs": [],
   "source": [
    "#Build acquisition data\n",
    "\n",
    "# Create arrays containing the source and receiver locations\n",
    "# x_s: Source locations [num_shots, num_sources_per_shot, num_dimensions]\n",
    "x_s = torch.zeros(num_shots, num_sources_per_shot, num_dims)\n",
    "x_s[:, 0, 1] = torch.arange(num_shots).float() * source_spacing\n",
    "\n",
    "# x_r: Receiver locations [num_shots, num_receivers_per_shot, num_dimensions]\n",
    "x_r = torch.zeros(num_shots, num_receivers_per_shot, num_dims)\n",
    "x_r[0, :, 1] = torch.arange(num_receivers_per_shot).float() * receiver_spacing\n",
    "x_r[:, :, 1] = x_r[0, :, 1].repeat(num_shots, 1)\n",
    "\n",
    "# Create true source amplitudes [nt, num_shots, num_sources_per_shot]\n",
    "# I use Deepwave's Ricker wavelet function. The result is a normal Tensor - you\n",
    "# can use whatever Tensor you want as the source amplitude.\n",
    "source_amplitudes_true = (deepwave.wavelets.ricker(peak_freq, nt, dt, 1/peak_freq)\n",
    "                          .reshape(-1, 1, 1)\n",
    "                          .repeat(1, num_shots, num_sources_per_shot))"
   ]
  },
  {
   "cell_type": "code",
   "execution_count": null,
   "id": "7f3e3a5d-25d4-4724-9d75-5435769a081c",
   "metadata": {},
   "outputs": [],
   "source": [
    "# calculating the amplitude of the marmousi data\n",
    "prop = deepwave.scalar.Propagator({'vp': model_true.to(device)}, dx)\n",
    "\n",
    "receiver_amplitudes_true = prop(source_amplitudes_true.to(device),\n",
    "                                x_s.to(device),\n",
    "                                x_r.to(device), dt).cpu()"
   ]
  },
  {
   "cell_type": "code",
   "execution_count": null,
   "id": "d1e45f36-8907-44b7-b849-64c03e0ac323",
   "metadata": {},
   "outputs": [],
   "source": [
    "# Plot one shot gather\n",
    "vmin, vmax = np.percentile(receiver_amplitudes_true[:,1].cpu().numpy(), [2,98])\n",
    "plt.imshow(receiver_amplitudes_true[:,1].cpu().numpy(), aspect='auto',\n",
    "           vmin=vmin, vmax=vmax)"
   ]
  },
  {
   "cell_type": "code",
   "execution_count": null,
   "id": "2f300365-40f4-4149-84dc-6c4429b3e6a0",
   "metadata": {},
   "outputs": [],
   "source": [
    "receiver_amplitudes_true = receiver_amplitudes_true.permute(1,0,2)\n",
    "receiver_amplitudes_true = receiver_amplitudes_true[None,...]\n",
    "print(receiver_amplitudes_true.shape)"
   ]
  },
  {
   "cell_type": "code",
   "execution_count": null,
   "id": "3e93acfc-fe89-459e-9084-ebb331beec5c",
   "metadata": {},
   "outputs": [],
   "source": [
    "#slicing the amplitude dimension for marmousi amplitude data\n",
    "receiver_amplitudes_true = receiver_amplitudes_true[:,0:5,:1000,:70]\n",
    "print(receiver_amplitudes_true.shape)"
   ]
  },
  {
   "cell_type": "code",
   "execution_count": null,
   "id": "3482fce2-6c8d-4e1e-8b69-fb81f0814f1d",
   "metadata": {},
   "outputs": [],
   "source": [
    "tloader_receiver_amplitudes_true = DataLoader(receiver_amplitudes_true, batch_size=50, shuffle=True)\n",
    "tloader_receiver_amplitudes_true"
   ]
  },
  {
   "cell_type": "code",
   "execution_count": null,
   "id": "3efdafbd-ab8e-435a-a594-849bd6a1738b",
   "metadata": {},
   "outputs": [],
   "source": [
    "print(receiver_amplitudes_true.shape)\n",
    "m_pred = model(receiver_amplitudes_true.to('cpu'))\n"
   ]
  },
  {
   "cell_type": "code",
   "execution_count": null,
   "id": "949123dc-e777-4366-b564-9dbff357b649",
   "metadata": {},
   "outputs": [],
   "source": [
    "plt.imshow(m_pred[0,0].detach().cpu().numpy())\n",
    "plt.colorbar(label=\"Velocity value\")\n",
    "# plt.savefig(\"Checkpoints/FlatVel-A/FlatVel-A_e_2000_marmousi.png\")"
   ]
  },
  {
   "cell_type": "code",
   "execution_count": null,
   "id": "eadaa54d",
   "metadata": {},
   "outputs": [],
   "source": [
    "amp, vel = test_data[0:]\n"
   ]
  },
  {
   "cell_type": "code",
   "execution_count": null,
   "id": "266ee26a",
   "metadata": {},
   "outputs": [],
   "source": [
    "# test_data=test_data[0:].detach().cpu().numpy()\n",
    "amp, vel = test_data[0:]\n",
    "model=model.module.to(torch.device('cpu'))\n",
    "pred_vel = model(amp.to('cpu'))#.detach().cpu().numpy()\n",
    "print(mean_absolute_error(pred_vel.to(device), vel.to(device)))\n",
    "vel = vel[10,0,:]\n",
    "pred_vel = pred_vel[10,0,:]\n",
    "prev_mae=mean_absolute_error(pred_vel.to(device),vel.to(device))\n",
    "pred_vel = pred_vel.detach().cpu().numpy()\n",
    "\n",
    "# plt.imshow(vel_np)\n",
    "# plt.colorbar(label='velocity')\n",
    "\n",
    "# plt.show()"
   ]
  },
  {
   "cell_type": "code",
   "execution_count": null,
   "id": "249e912d",
   "metadata": {},
   "outputs": [],
   "source": [
    "print(\"MAE: \",mean_absolute_error(pred_vel.to(device), vel.to(device)))\n",
    "print(\"MRE: \", mean_absolute_percentage_error(torch.tensor(pred_vel).to(device), torch.tensor(vel).to(device)))"
   ]
  },
  {
   "cell_type": "code",
   "execution_count": null,
   "id": "d8bfec4c",
   "metadata": {},
   "outputs": [],
   "source": [
    "vel = vel.detach().cpu().numpy()\n",
    "plt.imshow(vel)\n",
    "plt.colorbar(label='velocity')\n",
    "plt.show()"
   ]
  },
  {
   "cell_type": "code",
   "execution_count": null,
   "id": "17ed65e9",
   "metadata": {},
   "outputs": [],
   "source": [
    "print(prev_mae)"
   ]
  },
  {
   "cell_type": "code",
   "execution_count": null,
   "id": "dee7dd2c",
   "metadata": {},
   "outputs": [],
   "source": [
    "mae=mean_absolute_error(torch.tensor(pred_vel).type(dtype).to(device), torch.tensor(vel).type(dtype).to(device))\n",
    "print(mae.detach().cpu().numpy())"
   ]
  }
 ],
 "metadata": {
  "kernelspec": {
   "display_name": "Python 3",
   "language": "python",
   "name": "python3"
  },
  "language_info": {
   "codemirror_mode": {
    "name": "ipython",
    "version": 3
   },
   "file_extension": ".py",
   "mimetype": "text/x-python",
   "name": "python",
   "nbconvert_exporter": "python",
   "pygments_lexer": "ipython3",
   "version": "3.9.7"
  }
 },
 "nbformat": 4,
 "nbformat_minor": 5
}
